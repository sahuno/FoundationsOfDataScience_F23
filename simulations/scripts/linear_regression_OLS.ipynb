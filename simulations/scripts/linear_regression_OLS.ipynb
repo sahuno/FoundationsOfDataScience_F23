{
 "cells": [
  {
   "cell_type": "markdown",
   "id": "e72ae0f5-8011-4a85-9370-ca4de8da1577",
   "metadata": {},
   "source": [
    "linear regression gradient descent\n",
    "\n",
    " where \n",
    "$$ Y_i = \\beta_0 + \\beta_1 * X_i + \\epsilon$$\n",
    "\n",
    "so here are the parameters\n",
    "$\\beta_0$ inteercept\n",
    "\n",
    "$\\beta_1$ slope\n",
    "\n",
    "$\\epsilon$ error term normally distributed with mean 0 and unknown variance\n",
    "\n",
    "$ \\epsilon ~ N(0, \\sigma^2)$ \n",
    "\n",
    "now writing out the likelhood function\n",
    "$$ \n",
    "L(\\beta_0, \\beta_1, \\sigma^2) = \\prod{i=1}{n}\n",
    "$$\n"
   ]
  },
  {
   "cell_type": "code",
   "execution_count": null,
   "id": "b470d7d3-53bf-4fd1-af67-094c187fa1e4",
   "metadata": {},
   "outputs": [],
   "source": []
  },
  {
   "cell_type": "code",
   "execution_count": null,
   "id": "5ae680a6-7df1-4966-b160-a8c75b787558",
   "metadata": {},
   "outputs": [],
   "source": []
  }
 ],
 "metadata": {
  "kernelspec": {
   "display_name": "Python 3 (Spyder)",
   "language": "python3",
   "name": "python3"
  },
  "language_info": {
   "codemirror_mode": {
    "name": "ipython",
    "version": 3
   },
   "file_extension": ".py",
   "mimetype": "text/x-python",
   "name": "python",
   "nbconvert_exporter": "python",
   "pygments_lexer": "ipython3",
   "version": "3.11.6"
  }
 },
 "nbformat": 4,
 "nbformat_minor": 5
}
