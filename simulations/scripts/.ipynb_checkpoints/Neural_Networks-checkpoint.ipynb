{
 "cells": [
  {
   "cell_type": "markdown",
   "id": "83d97bc0-8486-43f6-8e24-e2b102051a60",
   "metadata": {},
   "source": [
    "# 10192023: attempts to implement a feed forward neural network\n",
    "initial code by chat GPT4"
   ]
  },
  {
   "cell_type": "code",
   "execution_count": null,
   "id": "cd52288f-f32e-4f2c-9f20-1652e819f0b5",
   "metadata": {},
   "outputs": [],
   "source": []
  },
  {
   "cell_type": "code",
   "execution_count": 1,
   "id": "8de70c9a-ed3b-4496-8a9c-684fd1d287df",
   "metadata": {},
   "outputs": [],
   "source": [
    "import torch\n",
    "import torch.nn as nn\n",
    "import torch.optim as optim"
   ]
  },
  {
   "cell_type": "code",
   "execution_count": null,
   "id": "c750fcbb-66a6-4bd4-92dc-51ac26827443",
   "metadata": {},
   "outputs": [],
   "source": []
  }
 ],
 "metadata": {
  "kernelspec": {
   "display_name": "Python 3 (Spyder)",
   "language": "python3",
   "name": "python3"
  },
  "language_info": {
   "codemirror_mode": {
    "name": "ipython",
    "version": 3
   },
   "file_extension": ".py",
   "mimetype": "text/x-python",
   "name": "python",
   "nbconvert_exporter": "python",
   "pygments_lexer": "ipython3",
   "version": "3.11.6"
  }
 },
 "nbformat": 4,
 "nbformat_minor": 5
}
