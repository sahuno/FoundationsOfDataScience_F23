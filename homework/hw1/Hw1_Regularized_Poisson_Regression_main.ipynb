{
  "nbformat": 4,
  "nbformat_minor": 0,
  "metadata": {
    "colab": {
      "provenance": [],
      "authorship_tag": "ABX9TyPnFmLe2QN/CZE/e1tkcFex",
      "include_colab_link": true
    },
    "kernelspec": {
      "name": "python3",
      "display_name": "Python 3"
    },
    "language_info": {
      "name": "python"
    }
  },
  "cells": [
    {
      "cell_type": "markdown",
      "metadata": {
        "id": "view-in-github",
        "colab_type": "text"
      },
      "source": [
        "<a href=\"https://colab.research.google.com/github/sahuno/FoundationsOfDataScience_F23/blob/main/homework/hw1/Hw1_Regularized_Poisson_Regression_main.ipynb\" target=\"_parent\"><img src=\"https://colab.research.google.com/assets/colab-badge.svg\" alt=\"Open In Colab\"/></a>"
      ]
    },
    {
      "cell_type": "code",
      "execution_count": null,
      "metadata": {
        "id": "Fkm6ZKRsmzYN"
      },
      "outputs": [],
      "source": [
        "#homework 1. Regularized poisson regresssion\n",
        "#Anni Lui and Samuel Ahuno\n",
        "#load libraries\n",
        "import numpy as np\n",
        "from scipy.stats import poisson\n",
        "import matplotlib.pyplot as plt\n",
        "from scipy.special import gammaln"
      ]
    },
    {
      "cell_type": "code",
      "source": [
        "#this implements part 2. que 3"
      ],
      "metadata": {
        "id": "24JHNHcEm6yJ"
      },
      "execution_count": null,
      "outputs": []
    },
    {
      "cell_type": "markdown",
      "source": [
        "to calculate gradient descent\n",
        "\n",
        "$\\mathbf {a} _{n+1}=\\mathbf {a} _{n}-\\gamma \\nabla F(\\mathbf {a} _{n})$\n",
        "\n",
        "\n",
        "Our loss function itself is\n",
        "$$\n",
        "- {L}(\\theta) =   \\sum_{i=1}^{n} [{exp(\\beta x)} - (y_i*{\\beta x}) + {\\log (y_i!)} ]\n",
        "$$\n",
        "\n",
        "\n",
        "we deduced the gradient with respect to $\\beta$ of our loss func as\n",
        "$$\n",
        "   \\frac{\\partial (- {L}(\\theta))}{\\partial \\beta} =  \\sum_{i=1}^{n} [x * {exp(\\beta x)}-y_i x]\n",
        "$$\n",
        "\n",
        "\n",
        "Assumming $\\gamma$ is small enough step size or learning rate\n",
        "$ \\gamma \\in \\mathbb {R} _{+}$\n",
        "\n",
        "For simplicity we choose a gamma of 0.05"
      ],
      "metadata": {
        "id": "lWBAokDRnmqv"
      }
    },
    {
      "cell_type": "code",
      "source": [
        "def loss_func(X, Y,B):\n",
        "  nlld=np.exp(B*X)- (Y*(B)*X) + gammaln(X + 1)\n",
        "  return np.sum(nlld)\n",
        "\n",
        "def gradient(B,X,Yi):\n",
        "  gdnt=(X*np.exp(B*X)) - (Y*X)\n",
        "  return np.sum(gdnt)\n",
        "\n",
        "gam=0.001\n",
        "B_init=0\n",
        "\n",
        "\n",
        "#function to impliment gradient descent\n",
        "def grad_descent(gam,B_init):\n",
        "  pass"
      ],
      "metadata": {
        "id": "U-7lVM3OnqZA"
      },
      "execution_count": null,
      "outputs": []
    },
    {
      "cell_type": "code",
      "source": [
        "#simulation X and Y data sets\n",
        "#this implements part 2. que 5\n",
        "\n",
        "#set number of samples and beta =3\n",
        "nSamples=1000\n",
        "Beta=3\n",
        "X = np.random.normal(loc=0, scale=1, size=nSamples)  #X inistailly coems from a standard normal\n",
        "\n",
        "#Y is poison, but there is depedence of x on y\n",
        "#generate lambda values to use for poisson\n",
        "lambda_vals = np.exp(Beta*X)\n",
        "Y = poisson.rvs(mu=lambda_vals, size=nSamples) #generate responses\n",
        "\n",
        "\n",
        "fig, ax = plt.subplots()\n",
        "plt.scatter(X,Y)\n",
        "ax.set_title(\"X ~ N(0,1) , Y ~ P(exp(Bx)) ; where B=3\")\n",
        "plt.xlabel(\"X\")\n",
        "plt.ylabel(\"Y\")\n",
        "plt.show()\n",
        "# class model(numb_samples, norm_mu, norm_sd):\n",
        "#     def f(self):\n",
        "#         print(\"first class\")\n"
      ],
      "metadata": {
        "id": "T6XHl_F0nuYe"
      },
      "execution_count": null,
      "outputs": []
    }
  ]
}